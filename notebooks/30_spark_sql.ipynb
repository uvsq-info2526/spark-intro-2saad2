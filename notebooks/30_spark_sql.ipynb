{
 "cells": [
  {
   "cell_type": "markdown",
   "metadata": {},
   "source": [
    "# Initialisation de Spark"
   ]
  },
  {
   "cell_type": "code",
   "execution_count": 2,
   "metadata": {},
   "outputs": [
    {
     "name": "stderr",
     "output_type": "stream",
     "text": [
      "23/10/29 15:59:28 WARN Utils: Your hostname, sal9000 resolves to a loopback address: 127.0.1.1; using 192.168.1.201 instead (on interface eno2)\n",
      "23/10/29 15:59:28 WARN Utils: Set SPARK_LOCAL_IP if you need to bind to another address\n",
      "Setting default log level to \"WARN\".\n",
      "To adjust logging level use sc.setLogLevel(newLevel). For SparkR, use setLogLevel(newLevel).\n",
      "23/10/29 15:59:29 WARN NativeCodeLoader: Unable to load native-hadoop library for your platform... using builtin-java classes where applicable\n",
      "23/10/29 15:59:29 WARN Utils: Service 'SparkUI' could not bind on port 4040. Attempting port 4041.\n",
      "23/10/29 15:59:29 WARN Utils: Service 'SparkUI' could not bind on port 4041. Attempting port 4042.\n"
     ]
    }
   ],
   "source": [
    "from pyspark.sql import SparkSession\n",
    "spark = SparkSession \\\n",
    "    .builder \\\n",
    "    .appName(\"Exemples avec les formats de stockage\") \\\n",
    "    .getOrCreate()\n",
    "sc = spark.sparkContext"
   ]
  },
  {
   "cell_type": "markdown",
   "metadata": {},
   "source": [
    "# Chargement des données\n",
    "1. Créer un dataframe pour les prénoms"
   ]
  },
  {
   "cell_type": "code",
   "execution_count": 14,
   "metadata": {},
   "outputs": [
    {
     "name": "stdout",
     "output_type": "stream",
     "text": [
      "+----+------------+--------+---+-----+\n",
      "|sexe|      prenom|effectif|dep|annee|\n",
      "+----+------------+--------+---+-----+\n",
      "|   1|    VINCENZO|       8|  6| 2013|\n",
      "|   1|        YONI|       3|  6| 2013|\n",
      "|   2|    ISABELLA|       3|  6| 2013|\n",
      "|   2|       MARAM|       4|  6| 2013|\n",
      "|   1|       YAZID|       4| 59| 2013|\n",
      "|   2|    CHAHINEZ|       4| 59| 2013|\n",
      "|   2|   ELISABETH|      10| 59| 2013|\n",
      "|   1|     AYMERIC|       7|  6| 1987|\n",
      "|   1|       ISSAM|       3|  6| 1987|\n",
      "|   1|     LAMBERT|       3|  6| 1987|\n",
      "|   1|      BRAYAN|       7| 93| 2000|\n",
      "|   1|     MATISSE|       3| 93| 2000|\n",
      "|   1|     RICARDO|       3| 93| 2000|\n",
      "|   1|     LEANDRO|       8| 92| 2012|\n",
      "|   1|      MACIRE|       3| 92| 2012|\n",
      "|   1|      SALMAN|       3| 92| 2012|\n",
      "|   2|       ANITA|       4| 18| 1967|\n",
      "|   2|MARIE-HÉLÈNE|       4| 18| 1967|\n",
      "|   2|     CLAUDIE|       9| 78| 1961|\n",
      "|   2|  CONCEPTION|       3| 78| 1961|\n",
      "+----+------------+--------+---+-----+\n",
      "only showing top 20 rows\n",
      "\n"
     ]
    }
   ],
   "source": [
    "prenoms = spark.read.load(\"prenomsParDeptsEtAnnees.parquet\")\n",
    "prenoms.createOrReplaceTempView(\"prenoms\")\n",
    "prenoms.show()"
   ]
  },
  {
   "cell_type": "markdown",
   "metadata": {},
   "source": [
    "1. Faire de même pour les départements"
   ]
  },
  {
   "cell_type": "code",
   "execution_count": 16,
   "metadata": {
    "scrolled": true
   },
   "outputs": [
    {
     "name": "stdout",
     "output_type": "stream",
     "text": [
      "+---+---+--------+----+--------------------+--------------------+--------------------+\n",
      "|dep|reg|cheflieu|tncc|                 ncc|              nccenr|             libelle|\n",
      "+---+---+--------+----+--------------------+--------------------+--------------------+\n",
      "| 52| 44|   52121|   3|         HAUTE MARNE|         Haute-Marne|         Haute-Marne|\n",
      "| 53| 52|   53130|   3|             MAYENNE|             Mayenne|             Mayenne|\n",
      "| 54| 44|   54395|   0|  MEURTHE ET MOSELLE|  Meurthe-et-Moselle|  Meurthe-et-Moselle|\n",
      "| 55| 44|   55029|   3|               MEUSE|               Meuse|               Meuse|\n",
      "| 56| 53|   56260|   2|            MORBIHAN|            Morbihan|            Morbihan|\n",
      "| 57| 44|   57463|   3|             MOSELLE|             Moselle|             Moselle|\n",
      "| 58| 27|   58194|   3|              NIEVRE|              Nièvre|              Nièvre|\n",
      "| 59| 32|   59350|   2|                NORD|                Nord|                Nord|\n",
      "| 60| 32|   60057|   5|                OISE|                Oise|                Oise|\n",
      "| 61| 28|   61001|   5|                ORNE|                Orne|                Orne|\n",
      "| 62| 32|   62041|   2|       PAS DE CALAIS|       Pas-de-Calais|       Pas-de-Calais|\n",
      "| 63| 84|   63113|   2|         PUY DE DOME|         Puy-de-Dôme|         Puy-de-Dôme|\n",
      "| 64| 75|   64445|   4|PYRENEES ATLANTIQUES|Pyrénées-Atlantiques|Pyrénées-Atlantiques|\n",
      "| 65| 76|   65440|   4|     HAUTES PYRENEES|     Hautes-Pyrénées|     Hautes-Pyrénées|\n",
      "| 66| 76|   66136|   4| PYRENEES ORIENTALES| Pyrénées-Orientales| Pyrénées-Orientales|\n",
      "| 67| 44|   67482|   2|            BAS RHIN|            Bas-Rhin|            Bas-Rhin|\n",
      "| 68| 44|   68066|   2|           HAUT RHIN|           Haut-Rhin|           Haut-Rhin|\n",
      "| 69| 84|   69123|   2|               RHONE|               Rhône|               Rhône|\n",
      "| 70| 27|   70550|   3|         HAUTE SAONE|         Haute-Saône|         Haute-Saône|\n",
      "| 71| 27|   71270|   0|      SAONE ET LOIRE|      Saône-et-Loire|      Saône-et-Loire|\n",
      "+---+---+--------+----+--------------------+--------------------+--------------------+\n",
      "only showing top 20 rows\n",
      "\n"
     ]
    }
   ],
   "source": [
    "#TODO"
   ]
  },
  {
   "cell_type": "markdown",
   "metadata": {},
   "source": [
    "# Interroger les données"
   ]
  },
  {
   "cell_type": "markdown",
   "metadata": {},
   "source": [
    "* La documentation sur Spark SQL est disponible [ici](https://spark.apache.org/docs/latest/sql-programming-guide.html) (de même pour [DataFrame](https://spark.apache.org/docs/latest/api/python/reference/pyspark.sql/api/pyspark.sql.DataFrame.html))\n",
    "* Pour chaque question, vous donnerez la réponse avec le DSL et en SQL"
   ]
  },
  {
   "cell_type": "markdown",
   "metadata": {},
   "source": [
    "1. Donner, pour chaque prénom, son nombre d'occurences"
   ]
  },
  {
   "cell_type": "markdown",
   "metadata": {},
   "source": [
    "## DSL"
   ]
  },
  {
   "cell_type": "code",
   "execution_count": 19,
   "metadata": {},
   "outputs": [
    {
     "name": "stderr",
     "output_type": "stream",
     "text": [
      "[Stage 15:============================================>         (85 + 12) / 104]\r"
     ]
    },
    {
     "name": "stdout",
     "output_type": "stream",
     "text": [
      "+---------------+-------------+\n",
      "|         prenom|sum(effectif)|\n",
      "+---------------+-------------+\n",
      "|          MARAM|           10|\n",
      "|         MARTHE|          292|\n",
      "|        KHADIJA|            8|\n",
      "|          LEÏLA|           12|\n",
      "|        ANAMIKA|            3|\n",
      "|          FANNY|          123|\n",
      "|         MACIRE|            3|\n",
      "|      CLAUDETTE|           53|\n",
      "|       THEODORE|           10|\n",
      "|        RICARDO|            3|\n",
      "|         HÉLÈNE|          307|\n",
      "|       CHAHINEZ|            4|\n",
      "|          CHRIS|            7|\n",
      "|          ISSAM|            8|\n",
      "|       MAELYSSE|            9|\n",
      "|     CONCEPTION|            3|\n",
      "|MARIE-FRANÇOISE|           15|\n",
      "|          ANITA|           13|\n",
      "|          FATOU|           18|\n",
      "|  MARIE-THÉRÈSE|           10|\n",
      "+---------------+-------------+\n",
      "only showing top 20 rows\n",
      "\n"
     ]
    },
    {
     "name": "stderr",
     "output_type": "stream",
     "text": [
      "                                                                                \r"
     ]
    }
   ],
   "source": [
    "#TODO"
   ]
  },
  {
   "cell_type": "markdown",
   "metadata": {},
   "source": [
    "## SQL"
   ]
  },
  {
   "cell_type": "code",
   "execution_count": 18,
   "metadata": {},
   "outputs": [
    {
     "name": "stderr",
     "output_type": "stream",
     "text": [
      "[Stage 12:===========================================>          (84 + 12) / 104]\r"
     ]
    },
    {
     "name": "stdout",
     "output_type": "stream",
     "text": [
      "+---------------+-------------+\n",
      "|         prenom|sum(effectif)|\n",
      "+---------------+-------------+\n",
      "|          MARAM|           10|\n",
      "|         MARTHE|          292|\n",
      "|        KHADIJA|            8|\n",
      "|          LEÏLA|           12|\n",
      "|        ANAMIKA|            3|\n",
      "|          FANNY|          123|\n",
      "|         MACIRE|            3|\n",
      "|      CLAUDETTE|           53|\n",
      "|       THEODORE|           10|\n",
      "|        RICARDO|            3|\n",
      "|         HÉLÈNE|          307|\n",
      "|       CHAHINEZ|            4|\n",
      "|          CHRIS|            7|\n",
      "|          ISSAM|            8|\n",
      "|       MAELYSSE|            9|\n",
      "|     CONCEPTION|            3|\n",
      "|MARIE-FRANÇOISE|           15|\n",
      "|          ANITA|           13|\n",
      "|          FATOU|           18|\n",
      "|  MARIE-THÉRÈSE|           10|\n",
      "+---------------+-------------+\n",
      "only showing top 20 rows\n",
      "\n"
     ]
    },
    {
     "name": "stderr",
     "output_type": "stream",
     "text": [
      "                                                                                \r"
     ]
    }
   ],
   "source": [
    "#TODO"
   ]
  },
  {
   "cell_type": "markdown",
   "metadata": {},
   "source": [
    "1. Donner le nombre total de naissances avec un prénom féminin"
   ]
  },
  {
   "cell_type": "markdown",
   "metadata": {},
   "source": [
    "## DSL"
   ]
  },
  {
   "cell_type": "code",
   "execution_count": 22,
   "metadata": {},
   "outputs": [
    {
     "name": "stderr",
     "output_type": "stream",
     "text": [
      "[Stage 21:==================================================>    (96 + 8) / 104]\r"
     ]
    },
    {
     "name": "stdout",
     "output_type": "stream",
     "text": [
      "+-------------+\n",
      "|sum(effectif)|\n",
      "+-------------+\n",
      "|        40379|\n",
      "+-------------+\n",
      "\n"
     ]
    },
    {
     "name": "stderr",
     "output_type": "stream",
     "text": [
      "                                                                                \r"
     ]
    }
   ],
   "source": [
    "#TODO"
   ]
  },
  {
   "cell_type": "markdown",
   "metadata": {},
   "source": [
    "## SQL"
   ]
  },
  {
   "cell_type": "code",
   "execution_count": 20,
   "metadata": {},
   "outputs": [
    {
     "name": "stderr",
     "output_type": "stream",
     "text": [
      "[Stage 18:===========================================>          (84 + 12) / 104]\r"
     ]
    },
    {
     "name": "stdout",
     "output_type": "stream",
     "text": [
      "+-------------+\n",
      "|sum(effectif)|\n",
      "+-------------+\n",
      "|        40379|\n",
      "+-------------+\n",
      "\n"
     ]
    },
    {
     "name": "stderr",
     "output_type": "stream",
     "text": [
      "                                                                                \r"
     ]
    }
   ],
   "source": [
    "#TODO"
   ]
  },
  {
   "cell_type": "markdown",
   "metadata": {},
   "source": [
    "1. Donner l'effectif maximal et minimal par prénom"
   ]
  },
  {
   "cell_type": "markdown",
   "metadata": {},
   "source": [
    "## DSL"
   ]
  },
  {
   "cell_type": "code",
   "execution_count": 29,
   "metadata": {},
   "outputs": [
    {
     "name": "stderr",
     "output_type": "stream",
     "text": [
      "[Stage 30:=====================================>                (72 + 12) / 104]\r"
     ]
    },
    {
     "name": "stdout",
     "output_type": "stream",
     "text": [
      "+---------------+----------+----------+\n",
      "|         prenom|min(nbmin)|max(nbmax)|\n",
      "+---------------+----------+----------+\n",
      "|          MARAM|         4|         6|\n",
      "|         MARTHE|         3|       109|\n",
      "|        KHADIJA|         8|         8|\n",
      "|          LEÏLA|        12|        12|\n",
      "|        ANAMIKA|         3|         3|\n",
      "|          FANNY|         3|        83|\n",
      "|         MACIRE|         3|         3|\n",
      "|      CLAUDETTE|         3|        35|\n",
      "|       THEODORE|         3|         7|\n",
      "|        RICARDO|         3|         3|\n",
      "|         HÉLÈNE|        13|        70|\n",
      "|       CHAHINEZ|         4|         4|\n",
      "|          CHRIS|         7|         7|\n",
      "|          ISSAM|         3|         5|\n",
      "|       MAELYSSE|         3|         6|\n",
      "|     CONCEPTION|         3|         3|\n",
      "|MARIE-FRANÇOISE|         3|        12|\n",
      "|          ANITA|         4|         9|\n",
      "|          FATOU|         8|        10|\n",
      "|  MARIE-THÉRÈSE|         3|         4|\n",
      "+---------------+----------+----------+\n",
      "only showing top 20 rows\n",
      "\n"
     ]
    },
    {
     "name": "stderr",
     "output_type": "stream",
     "text": [
      "                                                                                \r"
     ]
    }
   ],
   "source": [
    "#TODO"
   ]
  },
  {
   "cell_type": "markdown",
   "metadata": {},
   "source": [
    "## SQL"
   ]
  },
  {
   "cell_type": "code",
   "execution_count": 23,
   "metadata": {},
   "outputs": [
    {
     "name": "stderr",
     "output_type": "stream",
     "text": [
      "[Stage 24:========================================>             (78 + 12) / 104]\r"
     ]
    },
    {
     "name": "stdout",
     "output_type": "stream",
     "text": [
      "+---------------+-------------+-------------+\n",
      "|         prenom|min(effectif)|max(effectif)|\n",
      "+---------------+-------------+-------------+\n",
      "|          MARAM|            4|            6|\n",
      "|         MARTHE|            3|          109|\n",
      "|        KHADIJA|            8|            8|\n",
      "|          LEÏLA|           12|           12|\n",
      "|        ANAMIKA|            3|            3|\n",
      "|          FANNY|            3|           83|\n",
      "|         MACIRE|            3|            3|\n",
      "|      CLAUDETTE|            3|           35|\n",
      "|       THEODORE|            3|            7|\n",
      "|        RICARDO|            3|            3|\n",
      "|         HÉLÈNE|           13|           70|\n",
      "|       CHAHINEZ|            4|            4|\n",
      "|          CHRIS|            7|            7|\n",
      "|          ISSAM|            3|            5|\n",
      "|       MAELYSSE|            3|            6|\n",
      "|     CONCEPTION|            3|            3|\n",
      "|MARIE-FRANÇOISE|            3|           12|\n",
      "|          ANITA|            4|            9|\n",
      "|          FATOU|            8|           10|\n",
      "|  MARIE-THÉRÈSE|            3|            4|\n",
      "+---------------+-------------+-------------+\n",
      "only showing top 20 rows\n",
      "\n"
     ]
    },
    {
     "name": "stderr",
     "output_type": "stream",
     "text": [
      "                                                                                \r"
     ]
    }
   ],
   "source": [
    "#TODO"
   ]
  },
  {
   "cell_type": "markdown",
   "metadata": {},
   "source": [
    "1. Donner, pour chaque nom de département, le nombre moyen de prénoms depuis l'année 2000"
   ]
  },
  {
   "cell_type": "markdown",
   "metadata": {},
   "source": [
    "## DSL"
   ]
  },
  {
   "cell_type": "code",
   "execution_count": 31,
   "metadata": {},
   "outputs": [
    {
     "name": "stdout",
     "output_type": "stream",
     "text": [
      "+--------------------+------------------+\n",
      "|                 ncc|     avg(effectif)|\n",
      "+--------------------+------------------+\n",
      "|                 AIN| 4.714285714285714|\n",
      "|               AISNE| 16.09090909090909|\n",
      "|              ALLIER|               3.0|\n",
      "|ALPES DE HAUTE PR...| 4.333333333333333|\n",
      "|     ALPES MARITIMES|            8.6875|\n",
      "|             ARDECHE|               3.5|\n",
      "|            ARDENNES|              17.0|\n",
      "|              ARIEGE|               3.0|\n",
      "|                AUBE|              11.0|\n",
      "|                AUDE|               3.0|\n",
      "|             AVEYRON|             8.125|\n",
      "|            BAS RHIN|17.555555555555557|\n",
      "|    BOUCHES DU RHONE|21.838709677419356|\n",
      "|            CALVADOS|             23.75|\n",
      "|            CHARENTE|               4.0|\n",
      "|   CHARENTE MARITIME|14.666666666666666|\n",
      "|                CHER|              10.0|\n",
      "|             CORREZE|               7.0|\n",
      "|           COTE D OR|12.789473684210526|\n",
      "|       COTES D ARMOR| 7.230769230769231|\n",
      "+--------------------+------------------+\n",
      "only showing top 20 rows\n",
      "\n"
     ]
    }
   ],
   "source": [
    "#TODO"
   ]
  },
  {
   "cell_type": "markdown",
   "metadata": {},
   "source": [
    "## SQL"
   ]
  },
  {
   "cell_type": "code",
   "execution_count": 30,
   "metadata": {},
   "outputs": [
    {
     "name": "stdout",
     "output_type": "stream",
     "text": [
      "+--------------------+------------------+\n",
      "|                 ncc|     avg(effectif)|\n",
      "+--------------------+------------------+\n",
      "|                 AIN| 4.714285714285714|\n",
      "|               AISNE| 16.09090909090909|\n",
      "|              ALLIER|               3.0|\n",
      "|ALPES DE HAUTE PR...| 4.333333333333333|\n",
      "|     ALPES MARITIMES|            8.6875|\n",
      "|             ARDECHE|               3.5|\n",
      "|            ARDENNES|              17.0|\n",
      "|              ARIEGE|               3.0|\n",
      "|                AUBE|              11.0|\n",
      "|                AUDE|               3.0|\n",
      "|             AVEYRON|             8.125|\n",
      "|            BAS RHIN|17.555555555555557|\n",
      "|    BOUCHES DU RHONE|21.838709677419356|\n",
      "|            CALVADOS|             23.75|\n",
      "|            CHARENTE|               4.0|\n",
      "|   CHARENTE MARITIME|14.666666666666666|\n",
      "|                CHER|              10.0|\n",
      "|             CORREZE|               7.0|\n",
      "|           COTE D OR|12.789473684210526|\n",
      "|       COTES D ARMOR| 7.230769230769231|\n",
      "+--------------------+------------------+\n",
      "only showing top 20 rows\n",
      "\n"
     ]
    }
   ],
   "source": [
    "#TODO"
   ]
  }
 ],
 "metadata": {
  "kernelspec": {
   "display_name": "sparkenv",
   "language": "python",
   "name": "python3"
  },
  "language_info": {
   "codemirror_mode": {
    "name": "ipython",
    "version": 3
   },
   "file_extension": ".py",
   "mimetype": "text/x-python",
   "name": "python",
   "nbconvert_exporter": "python",
   "pygments_lexer": "ipython3",
   "version": "3.11.6"
  }
 },
 "nbformat": 4,
 "nbformat_minor": 2
}
