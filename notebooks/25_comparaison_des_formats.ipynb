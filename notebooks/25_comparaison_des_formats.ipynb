{
 "cells": [
  {
   "cell_type": "markdown",
   "metadata": {},
   "source": [
    "# Initialisation de Spark"
   ]
  },
  {
   "cell_type": "code",
   "execution_count": 1,
   "metadata": {},
   "outputs": [
    {
     "name": "stderr",
     "output_type": "stream",
     "text": [
      "23/10/29 15:02:48 WARN Utils: Your hostname, sal9000 resolves to a loopback address: 127.0.1.1; using 192.168.1.201 instead (on interface eno2)\n",
      "23/10/29 15:02:48 WARN Utils: Set SPARK_LOCAL_IP if you need to bind to another address\n",
      "Setting default log level to \"WARN\".\n",
      "To adjust logging level use sc.setLogLevel(newLevel). For SparkR, use setLogLevel(newLevel).\n",
      "23/10/29 15:02:48 WARN NativeCodeLoader: Unable to load native-hadoop library for your platform... using builtin-java classes where applicable\n",
      "23/10/29 15:02:49 WARN Utils: Service 'SparkUI' could not bind on port 4040. Attempting port 4041.\n"
     ]
    }
   ],
   "source": [
    "from pyspark.sql import SparkSession\n",
    "spark = SparkSession \\\n",
    "    .builder \\\n",
    "    .appName(\"Exemples avec les formats de stockage\") \\\n",
    "    .getOrCreate()\n",
    "sc = spark.sparkContext"
   ]
  },
  {
   "cell_type": "markdown",
   "metadata": {},
   "source": [
    "# Chargement des données"
   ]
  },
  {
   "cell_type": "code",
   "execution_count": 32,
   "metadata": {},
   "outputs": [
    {
     "data": {
      "text/plain": [
       "DataFrame[sexe: bigint, prenom: string, annee: bigint, dep: string, effectif: bigint]"
      ]
     },
     "execution_count": 32,
     "metadata": {},
     "output_type": "execute_result"
    }
   ],
   "source": [
    "from pyspark.sql import Row\n",
    "\n",
    "# Charge un fichier texte et convertit les lignes en \"Row\".\n",
    "lines = sc.textFile(\"prenoms.txt\")\n",
    "prenoms_as_rdd = lines.map(lambda l: l.split(\";\"))\\\n",
    "    .filter(lambda l: \"sexe\" not in l and \"XX\" not in l)\\\n",
    "    .map(lambda p: Row(\\\n",
    "        sexe=int(p[0]),\\\n",
    "        prenom=p[1],\\\n",
    "        annee=int(p[2]),\\\n",
    "        dep=p[3],\\\n",
    "        effectif=int(p[4])))\n",
    "\n",
    "# Infère le schéma et enregistre le DataFrame comme une table.\n",
    "prenoms = spark.createDataFrame(prenoms_as_rdd)\n",
    "prenoms.cache()"
   ]
  },
  {
   "cell_type": "markdown",
   "metadata": {},
   "source": [
    "# Sauvegarder dans les différents formats"
   ]
  },
  {
   "cell_type": "code",
   "execution_count": 8,
   "metadata": {},
   "outputs": [],
   "source": [
    "import os\n",
    "\n",
    "def get_size(start_path):\n",
    "    total_size = 0\n",
    "    for dirpath, dirnames, filenames in os.walk(start_path):\n",
    "        for f in filenames:\n",
    "            fp = os.path.join(dirpath, f)\n",
    "            if not os.path.islink(fp): # skip if it is symbolic link\n",
    "                total_size += os.path.getsize(fp)\n",
    "    return total_size"
   ]
  },
  {
   "cell_type": "code",
   "execution_count": 10,
   "metadata": {},
   "outputs": [],
   "source": [
    "formats = {\\\n",
    "    \"csv\": [\"uncompressed\", \"bzip2\", \"deflate\", \"gzip\"],\\\n",
    "    \"json\": [\"uncompressed\", \"bzip2\", \"deflate\", \"gzip\"],\\\n",
    "    \"parquet\": [\"uncompressed\", \"gzip\", \"snappy\"],\\\n",
    "    \"orc\": [\"uncompressed\", \"snappy\", \"zlib\"]\\\n",
    "}"
   ]
  },
  {
   "cell_type": "code",
   "execution_count": 33,
   "metadata": {},
   "outputs": [
    {
     "name": "stderr",
     "output_type": "stream",
     "text": [
      "                                                                                \r"
     ]
    },
    {
     "name": "stdout",
     "output_type": "stream",
     "text": [
      "csv, uncompressed, 73932529\n"
     ]
    },
    {
     "name": "stderr",
     "output_type": "stream",
     "text": [
      "                                                                                \r"
     ]
    },
    {
     "name": "stdout",
     "output_type": "stream",
     "text": [
      "csv, bzip2, 11459537\n"
     ]
    },
    {
     "name": "stderr",
     "output_type": "stream",
     "text": [
      "                                                                                \r"
     ]
    },
    {
     "name": "stdout",
     "output_type": "stream",
     "text": [
      "csv, deflate, 12860959\n"
     ]
    },
    {
     "name": "stderr",
     "output_type": "stream",
     "text": [
      "                                                                                \r"
     ]
    },
    {
     "name": "stdout",
     "output_type": "stream",
     "text": [
      "csv, gzip, 12860995\n"
     ]
    },
    {
     "name": "stderr",
     "output_type": "stream",
     "text": [
      "                                                                                \r"
     ]
    },
    {
     "name": "stdout",
     "output_type": "stream",
     "text": [
      "json, uncompressed, 246360316\n"
     ]
    },
    {
     "name": "stderr",
     "output_type": "stream",
     "text": [
      "                                                                                \r"
     ]
    },
    {
     "name": "stdout",
     "output_type": "stream",
     "text": [
      "json, bzip2, 10214914\n"
     ]
    },
    {
     "name": "stderr",
     "output_type": "stream",
     "text": [
      "                                                                                \r"
     ]
    },
    {
     "name": "stdout",
     "output_type": "stream",
     "text": [
      "json, deflate, 15795079\n"
     ]
    },
    {
     "name": "stderr",
     "output_type": "stream",
     "text": [
      "                                                                                \r"
     ]
    },
    {
     "name": "stdout",
     "output_type": "stream",
     "text": [
      "json, gzip, 15795115\n"
     ]
    },
    {
     "name": "stderr",
     "output_type": "stream",
     "text": [
      "                                                                                \r"
     ]
    },
    {
     "name": "stdout",
     "output_type": "stream",
     "text": [
      "parquet, uncompressed, 8947986\n"
     ]
    },
    {
     "name": "stderr",
     "output_type": "stream",
     "text": [
      "                                                                                \r"
     ]
    },
    {
     "name": "stdout",
     "output_type": "stream",
     "text": [
      "parquet, gzip, 5611550\n"
     ]
    },
    {
     "name": "stderr",
     "output_type": "stream",
     "text": [
      "                                                                                \r"
     ]
    },
    {
     "name": "stdout",
     "output_type": "stream",
     "text": [
      "parquet, snappy, 7468201\n"
     ]
    },
    {
     "name": "stderr",
     "output_type": "stream",
     "text": [
      "                                                                                \r"
     ]
    },
    {
     "name": "stdout",
     "output_type": "stream",
     "text": [
      "orc, uncompressed, 8386496\n"
     ]
    },
    {
     "name": "stderr",
     "output_type": "stream",
     "text": [
      "                                                                                \r"
     ]
    },
    {
     "name": "stdout",
     "output_type": "stream",
     "text": [
      "orc, snappy, 5953622\n"
     ]
    },
    {
     "name": "stderr",
     "output_type": "stream",
     "text": [
      "[Stage 91:===================>                                      (1 + 2) / 3]\r"
     ]
    },
    {
     "name": "stdout",
     "output_type": "stream",
     "text": [
      "orc, zlib, 4671873\n",
      "{'csv': {'uncompressed': 73932529, 'bzip2': 11459537, 'deflate': 12860959, 'gzip': 12860995}, 'json': {'uncompressed': 246360316, 'bzip2': 10214914, 'deflate': 15795079, 'gzip': 15795115}, 'parquet': {'uncompressed': 8947986, 'gzip': 5611550, 'snappy': 7468201}, 'orc': {'uncompressed': 8386496, 'snappy': 5953622, 'zlib': 4671873}}\n"
     ]
    },
    {
     "name": "stderr",
     "output_type": "stream",
     "text": [
      "                                                                                \r"
     ]
    }
   ],
   "source": [
    "size_by_formats_and_codecs = dict()\n",
    "for format in iter(formats):\n",
    "    size_by_formats_and_codecs[format] = dict()\n",
    "    for codec in formats[format]:\n",
    "        prenoms.write\\\n",
    "            .mode(\"overwrite\")\\\n",
    "                .option(\"compression\", codec)\\\n",
    "                    .format(format)\\\n",
    "                        .save(\"prenoms\")\n",
    "        size = get_size(\"prenoms\")\n",
    "        print(f'{format}, {codec}, {size}')\n",
    "        size_by_formats_and_codecs[format][codec] = size\n",
    "print(size_by_formats_and_codecs)"
   ]
  },
  {
   "cell_type": "markdown",
   "metadata": {},
   "source": [
    "# Affichage des résultats"
   ]
  },
  {
   "cell_type": "markdown",
   "metadata": {},
   "source": [
    "## Taille (en Mo)"
   ]
  },
  {
   "cell_type": "code",
   "execution_count": 34,
   "metadata": {},
   "outputs": [
    {
     "name": "stdout",
     "output_type": "stream",
     "text": [
      "Format | uncomp.  | bzip2    | def.     | gzip     | snappy   | zlib     |\n",
      "csv    |    70.51 |    10.93 |    12.27 |    12.27 |     0.00 |     0.00 |\n",
      "json   |   234.95 |     9.74 |    15.06 |    15.06 |     0.00 |     0.00 |\n",
      "parquet|     8.53 |     0.00 |     0.00 |     5.35 |     7.12 |     0.00 |\n",
      "orc    |     8.00 |     0.00 |     0.00 |     0.00 |     5.68 |     4.46 |\n"
     ]
    }
   ],
   "source": [
    "all_codecs = [\"uncompressed\", \"bzip2\", \"deflate\", \"gzip\", \"snappy\", \"zlib\"]\n",
    "print(\"Format | uncomp.  | bzip2    | def.     | gzip     | snappy   | zlib     |\")\n",
    "for format in iter(formats):\n",
    "    print(f'{format:7}|', end='')\n",
    "    for codec in all_codecs:\n",
    "        size = size_by_formats_and_codecs[format].get(codec, 0) / (1024 * 1024)\n",
    "        print(f' {size:8.2f} |', end='')\n",
    "    print()\n"
   ]
  }
 ],
 "metadata": {
  "kernelspec": {
   "display_name": "sparkenv",
   "language": "python",
   "name": "python3"
  },
  "language_info": {
   "codemirror_mode": {
    "name": "ipython",
    "version": 3
   },
   "file_extension": ".py",
   "mimetype": "text/x-python",
   "name": "python",
   "nbconvert_exporter": "python",
   "pygments_lexer": "ipython3",
   "version": "3.11.6"
  }
 },
 "nbformat": 4,
 "nbformat_minor": 2
}
