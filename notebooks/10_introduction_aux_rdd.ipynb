{
 "cells": [
  {
   "cell_type": "markdown",
   "metadata": {},
   "source": [
    "# Initialisation de Spark"
   ]
  },
  {
   "cell_type": "code",
   "execution_count": 1,
   "metadata": {},
   "outputs": [
    {
     "name": "stderr",
     "output_type": "stream",
     "text": [
      "23/10/29 12:12:09 WARN Utils: Your hostname, sal9000 resolves to a loopback address: 127.0.1.1; using 192.168.1.201 instead (on interface eno2)\n",
      "23/10/29 12:12:09 WARN Utils: Set SPARK_LOCAL_IP if you need to bind to another address\n",
      "Setting default log level to \"WARN\".\n",
      "To adjust logging level use sc.setLogLevel(newLevel). For SparkR, use setLogLevel(newLevel).\n",
      "23/10/29 12:12:09 WARN NativeCodeLoader: Unable to load native-hadoop library for your platform... using builtin-java classes where applicable\n",
      "23/10/29 12:12:10 WARN Utils: Service 'SparkUI' could not bind on port 4040. Attempting port 4041.\n"
     ]
    }
   ],
   "source": [
    "from pyspark import SparkContext, SparkConf\n",
    "conf = SparkConf().setAppName(\"Notebook\").setMaster(\"local\")\n",
    "sc = SparkContext(conf=conf)"
   ]
  },
  {
   "cell_type": "markdown",
   "metadata": {},
   "source": [
    "# Une fonction pour simplifier l'accès aux données"
   ]
  },
  {
   "cell_type": "code",
   "execution_count": 31,
   "metadata": {},
   "outputs": [],
   "source": [
    "def extract_field(s: str, field_number: int, sep: str = ';') -> str:\n",
    "    fields = s.split(sep)\n",
    "    return fields[field_number] if (field_number < len(fields)) else \"\""
   ]
  },
  {
   "cell_type": "code",
   "execution_count": 3,
   "metadata": {},
   "outputs": [
    {
     "name": "stdout",
     "output_type": "stream",
     "text": [
      "2\n",
      "CASSIOPEE\n",
      "2009\n",
      "33\n",
      "3\n",
      "\n"
     ]
    }
   ],
   "source": [
    "print(extract_field(\"2;CASSIOPEE;2009;33;3\", 0))\n",
    "print(extract_field(\"2;CASSIOPEE;2009;33;3\", 1))\n",
    "print(extract_field(\"2;CASSIOPEE;2009;33;3\", 2))\n",
    "print(extract_field(\"2;CASSIOPEE;2009;33;3\", 3))\n",
    "print(extract_field(\"2;CASSIOPEE;2009;33;3\", 4))\n",
    "print(extract_field(\"2;CASSIOPEE;2009;33;3\", 5))"
   ]
  },
  {
   "cell_type": "markdown",
   "metadata": {},
   "source": [
    "# Charger les données\n",
    "1. Créer le RDD `lignes` à partir du répertoire `prenoms_sample.txt`"
   ]
  },
  {
   "cell_type": "code",
   "execution_count": 4,
   "metadata": {},
   "outputs": [
    {
     "name": "stdout",
     "output_type": "stream",
     "text": [
      "['1;_PRENOMS_RARES;1909;44;7', '1;_PRENOMS_RARES;1925;64;19', '1;_PRENOMS_RARES;1926;44;21', '1;_PRENOMS_RARES;1962;66;15', '1;_PRENOMS_RARES;1997;40;15', '1;_PRENOMS_RARES;2000;46;13', '1;_PRENOMS_RARES;2016;973;1463', '1;ABDALLAH;2007;76;3', '1;ABDELAZIZ;1978;75;3', '1;ABDELHAFID;1964;42;4']\n"
     ]
    }
   ],
   "source": [
    "lignes = sc.textFile(\"prenoms_sample.txt\")\n",
    "print(lignes.take(10))"
   ]
  },
  {
   "cell_type": "markdown",
   "metadata": {},
   "source": [
    "# Transformer les lignes en prénoms\n",
    "1. En appliquant la méthode `map`, créer le RDD `prenoms` à partir de `lignes`"
   ]
  },
  {
   "cell_type": "code",
   "execution_count": 18,
   "metadata": {},
   "outputs": [
    {
     "name": "stdout",
     "output_type": "stream",
     "text": [
      "('1', '_PRENOMS_RARES', 1909, 44, 7)\n",
      "('1', '_PRENOMS_RARES', 1925, 64, 19)\n",
      "('1', '_PRENOMS_RARES', 1926, 44, 21)\n",
      "('1', '_PRENOMS_RARES', 1962, 66, 15)\n",
      "('1', '_PRENOMS_RARES', 1997, 40, 15)\n",
      "('1', '_PRENOMS_RARES', 2000, 46, 13)\n",
      "('1', '_PRENOMS_RARES', 2016, 973, 1463)\n",
      "('1', 'ABDALLAH', 2007, 76, 3)\n",
      "('1', 'ABDELAZIZ', 1978, 75, 3)\n",
      "('1', 'ABDELHAFID', 1964, 42, 4)\n"
     ]
    }
   ],
   "source": [
    "prenoms = lignes.map(lambda l: (\n",
    "    extract_field(l, 0)[0],\n",
    "    extract_field(l, 1),\n",
    "    int(extract_field(l, 2)),\n",
    "    int(extract_field(l, 3)),\n",
    "    int(extract_field(l, 4))\n",
    "))\n",
    "for n in prenoms.take(10):\n",
    "    print(n)"
   ]
  },
  {
   "cell_type": "markdown",
   "metadata": {},
   "source": [
    "# Interroger les données\n",
    "La documentation des méthodes d'un RDD est disponible ([RDD](https://spark.apache.org/docs/latest/api/python/reference/api/pyspark.RDD.html)).\n",
    "\n",
    "1. Rappeler ce que sont les *transformations* et les *actions*\n",
    "1. Donner, pour chaque prénom, son nombre d'occurences (`map` et `reduceByKey`)"
   ]
  },
  {
   "cell_type": "code",
   "execution_count": 19,
   "metadata": {},
   "outputs": [
    {
     "name": "stdout",
     "output_type": "stream",
     "text": [
      "('ABDELAZIZ', 3)\n",
      "('ABDELMALIK', 3)\n",
      "('ADAM', 10)\n",
      "('ADRIEN', 184)\n",
      "('ALAN', 7)\n",
      "('ALASSANE', 3)\n",
      "('ALEX', 69)\n",
      "('ALEXIS', 84)\n",
      "('ALFRED', 37)\n",
      "('ALY', 3)\n"
     ]
    }
   ],
   "source": [
    "#TODO"
   ]
  },
  {
   "cell_type": "markdown",
   "metadata": {},
   "source": [
    "1. Donner le nombre total de naissances avec un prénom féminin (`filter`, `map`, `reduce` ou `sum`)"
   ]
  },
  {
   "cell_type": "code",
   "execution_count": 20,
   "metadata": {},
   "outputs": [
    {
     "name": "stdout",
     "output_type": "stream",
     "text": [
      "40379\n"
     ]
    }
   ],
   "source": [
    "#TODO"
   ]
  },
  {
   "cell_type": "markdown",
   "metadata": {},
   "source": [
    "1. Donner l'effectif maximal et minimal par prénom (`map`, `aggregateByKey`)"
   ]
  },
  {
   "cell_type": "code",
   "execution_count": 24,
   "metadata": {},
   "outputs": [
    {
     "name": "stdout",
     "output_type": "stream",
     "text": [
      "('ABDELAZIZ', (3, 3))\n",
      "('ABDELMALIK', (3, 3))\n",
      "('ADAM', (3, 7))\n",
      "('ADRIEN', (4, 71))\n",
      "('ALAN', (3, 4))\n",
      "('ALASSANE', (3, 3))\n",
      "('ALEX', (3, 49))\n",
      "('ALEXIS', (5, 42))\n",
      "('ALFRED', (3, 17))\n",
      "('ALY', (3, 3))\n"
     ]
    }
   ],
   "source": [
    "#TODO"
   ]
  },
  {
   "cell_type": "markdown",
   "metadata": {},
   "source": [
    "1. Sur le modèle des prénoms, charger les données des départements\n",
    "1. Donner, pour chaque nom de département, le prénom le plus fréquent depuis l'année 2000"
   ]
  },
  {
   "cell_type": "code",
   "execution_count": 42,
   "metadata": {},
   "outputs": [
    {
     "name": "stdout",
     "output_type": "stream",
     "text": [
      "('01', 84, '01053', 5, 'AIN', 'Ain', 'Ain')\n",
      "('02', 32, '02408', 5, 'AISNE', 'Aisne', 'Aisne')\n",
      "('03', 84, '03190', 5, 'ALLIER', 'Allier', 'Allier')\n",
      "('04', 93, '04070', 4, 'ALPES DE HAUTE PROVENCE', 'Alpes-de-Haute-Provence', 'Alpes-de-Haute-Provence')\n",
      "('05', 93, '05061', 4, 'HAUTES ALPES', 'Hautes-Alpes', 'Hautes-Alpes')\n",
      "('06', 93, '06088', 4, 'ALPES MARITIMES', 'Alpes-Maritimes', 'Alpes-Maritimes')\n",
      "('07', 84, '07186', 5, 'ARDECHE', 'Ardèche', 'Ardèche')\n",
      "('08', 44, '08105', 4, 'ARDENNES', 'Ardennes', 'Ardennes')\n",
      "('09', 76, '09122', 5, 'ARIEGE', 'Ariège', 'Ariège')\n",
      "('10', 44, '10387', 5, 'AUBE', 'Aube', 'Aube')\n",
      "('11', 76, '11069', 5, 'AUDE', 'Aude', 'Aude')\n",
      "('12', 76, '12202', 5, 'AVEYRON', 'Aveyron', 'Aveyron')\n",
      "('13', 93, '13055', 4, 'BOUCHES DU RHONE', 'Bouches-du-Rhône', 'Bouches-du-Rhône')\n",
      "('14', 28, '14118', 2, 'CALVADOS', 'Calvados', 'Calvados')\n",
      "('15', 84, '15014', 2, 'CANTAL', 'Cantal', 'Cantal')\n",
      "('16', 75, '16015', 3, 'CHARENTE', 'Charente', 'Charente')\n",
      "('17', 75, '17300', 3, 'CHARENTE MARITIME', 'Charente-Maritime', 'Charente-Maritime')\n",
      "('18', 24, '18033', 2, 'CHER', 'Cher', 'Cher')\n",
      "('19', 75, '19272', 3, 'CORREZE', 'Corrèze', 'Corrèze')\n",
      "('21', 27, '21231', 3, 'COTE D OR', \"Côte-d'Or\", \"Côte-d'Or\")\n",
      "('22', 53, '22278', 4, 'COTES D ARMOR', \"Côtes-d'Armor\", \"Côtes-d'Armor\")\n",
      "('23', 75, '23096', 3, 'CREUSE', 'Creuse', 'Creuse')\n",
      "('24', 75, '24322', 3, 'DORDOGNE', 'Dordogne', 'Dordogne')\n",
      "('25', 27, '25056', 2, 'DOUBS', 'Doubs', 'Doubs')\n",
      "('26', 84, '26362', 3, 'DROME', 'Drôme', 'Drôme')\n",
      "('27', 28, '27229', 5, 'EURE', 'Eure', 'Eure')\n",
      "('28', 24, '28085', 1, 'EURE ET LOIR', 'Eure-et-Loir', 'Eure-et-Loir')\n",
      "('29', 53, '29232', 2, 'FINISTERE', 'Finistère', 'Finistère')\n",
      "('2A', 94, '2A004', 3, 'CORSE DU SUD', 'Corse-du-Sud', 'Corse-du-Sud')\n",
      "('2B', 94, '2B033', 3, 'HAUTE CORSE', 'Haute-Corse', 'Haute-Corse')\n",
      "('30', 76, '30189', 2, 'GARD', 'Gard', 'Gard')\n",
      "('31', 76, '31555', 3, 'HAUTE GARONNE', 'Haute-Garonne', 'Haute-Garonne')\n",
      "('32', 76, '32013', 2, 'GERS', 'Gers', 'Gers')\n",
      "('33', 75, '33063', 3, 'GIRONDE', 'Gironde', 'Gironde')\n",
      "('34', 76, '34172', 5, 'HERAULT', 'Hérault', 'Hérault')\n",
      "('35', 53, '35238', 1, 'ILLE ET VILAINE', 'Ille-et-Vilaine', 'Ille-et-Vilaine')\n",
      "('36', 24, '36044', 5, 'INDRE', 'Indre', 'Indre')\n",
      "('37', 24, '37261', 1, 'INDRE ET LOIRE', 'Indre-et-Loire', 'Indre-et-Loire')\n",
      "('38', 84, '38185', 5, 'ISERE', 'Isère', 'Isère')\n",
      "('39', 27, '39300', 2, 'JURA', 'Jura', 'Jura')\n",
      "('40', 75, '40192', 4, 'LANDES', 'Landes', 'Landes')\n",
      "('41', 24, '41018', 2, 'LOIR ET CHER', 'Loir-et-Cher', 'Loir-et-Cher')\n",
      "('42', 84, '42218', 3, 'LOIRE', 'Loire', 'Loire')\n",
      "('43', 84, '43157', 3, 'HAUTE LOIRE', 'Haute-Loire', 'Haute-Loire')\n",
      "('44', 52, '44109', 3, 'LOIRE ATLANTIQUE', 'Loire-Atlantique', 'Loire-Atlantique')\n",
      "('45', 24, '45234', 2, 'LOIRET', 'Loiret', 'Loiret')\n",
      "('46', 76, '46042', 2, 'LOT', 'Lot', 'Lot')\n",
      "('47', 75, '47001', 2, 'LOT ET GARONNE', 'Lot-et-Garonne', 'Lot-et-Garonne')\n",
      "('48', 76, '48095', 3, 'LOZERE', 'Lozère', 'Lozère')\n",
      "('49', 52, '49007', 2, 'MAINE ET LOIRE', 'Maine-et-Loire', 'Maine-et-Loire')\n",
      "('50', 28, '50502', 3, 'MANCHE', 'Manche', 'Manche')\n",
      "('51', 44, '51108', 3, 'MARNE', 'Marne', 'Marne')\n",
      "('52', 44, '52121', 3, 'HAUTE MARNE', 'Haute-Marne', 'Haute-Marne')\n",
      "('53', 52, '53130', 3, 'MAYENNE', 'Mayenne', 'Mayenne')\n",
      "('54', 44, '54395', 0, 'MEURTHE ET MOSELLE', 'Meurthe-et-Moselle', 'Meurthe-et-Moselle')\n",
      "('55', 44, '55029', 3, 'MEUSE', 'Meuse', 'Meuse')\n",
      "('56', 53, '56260', 2, 'MORBIHAN', 'Morbihan', 'Morbihan')\n",
      "('57', 44, '57463', 3, 'MOSELLE', 'Moselle', 'Moselle')\n",
      "('58', 27, '58194', 3, 'NIEVRE', 'Nièvre', 'Nièvre')\n",
      "('59', 32, '59350', 2, 'NORD', 'Nord', 'Nord')\n",
      "('60', 32, '60057', 5, 'OISE', 'Oise', 'Oise')\n",
      "('61', 28, '61001', 5, 'ORNE', 'Orne', 'Orne')\n",
      "('62', 32, '62041', 2, 'PAS DE CALAIS', 'Pas-de-Calais', 'Pas-de-Calais')\n",
      "('63', 84, '63113', 2, 'PUY DE DOME', 'Puy-de-Dôme', 'Puy-de-Dôme')\n",
      "('64', 75, '64445', 4, 'PYRENEES ATLANTIQUES', 'Pyrénées-Atlantiques', 'Pyrénées-Atlantiques')\n",
      "('65', 76, '65440', 4, 'HAUTES PYRENEES', 'Hautes-Pyrénées', 'Hautes-Pyrénées')\n",
      "('66', 76, '66136', 4, 'PYRENEES ORIENTALES', 'Pyrénées-Orientales', 'Pyrénées-Orientales')\n",
      "('67', 44, '67482', 2, 'BAS RHIN', 'Bas-Rhin', 'Bas-Rhin')\n",
      "('68', 44, '68066', 2, 'HAUT RHIN', 'Haut-Rhin', 'Haut-Rhin')\n",
      "('69', 84, '69123', 2, 'RHONE', 'Rhône', 'Rhône')\n",
      "('70', 27, '70550', 3, 'HAUTE SAONE', 'Haute-Saône', 'Haute-Saône')\n",
      "('71', 27, '71270', 0, 'SAONE ET LOIRE', 'Saône-et-Loire', 'Saône-et-Loire')\n",
      "('72', 52, '72181', 3, 'SARTHE', 'Sarthe', 'Sarthe')\n",
      "('73', 84, '73065', 3, 'SAVOIE', 'Savoie', 'Savoie')\n",
      "('74', 84, '74010', 3, 'HAUTE SAVOIE', 'Haute-Savoie', 'Haute-Savoie')\n",
      "('75', 11, '75056', 0, 'PARIS', 'Paris', 'Paris')\n",
      "('76', 28, '76540', 3, 'SEINE MARITIME', 'Seine-Maritime', 'Seine-Maritime')\n",
      "('77', 11, '77288', 0, 'SEINE ET MARNE', 'Seine-et-Marne', 'Seine-et-Marne')\n",
      "('78', 11, '78646', 4, 'YVELINES', 'Yvelines', 'Yvelines')\n",
      "('79', 75, '79191', 4, 'DEUX SEVRES', 'Deux-Sèvres', 'Deux-Sèvres')\n",
      "('80', 32, '80021', 3, 'SOMME', 'Somme', 'Somme')\n",
      "('81', 76, '81004', 2, 'TARN', 'Tarn', 'Tarn')\n",
      "('82', 76, '82121', 2, 'TARN ET GARONNE', 'Tarn-et-Garonne', 'Tarn-et-Garonne')\n",
      "('83', 93, '83137', 2, 'VAR', 'Var', 'Var')\n",
      "('84', 93, '84007', 2, 'VAUCLUSE', 'Vaucluse', 'Vaucluse')\n",
      "('85', 52, '85191', 3, 'VENDEE', 'Vendée', 'Vendée')\n",
      "('86', 75, '86194', 3, 'VIENNE', 'Vienne', 'Vienne')\n",
      "('87', 75, '87085', 3, 'HAUTE VIENNE', 'Haute-Vienne', 'Haute-Vienne')\n",
      "('88', 44, '88160', 4, 'VOSGES', 'Vosges', 'Vosges')\n",
      "('89', 27, '89024', 5, 'YONNE', 'Yonne', 'Yonne')\n",
      "('90', 27, '90010', 2, 'TERRITOIRE DE BELFORT', 'Territoire de Belfort', 'Territoire de Belfort')\n",
      "('91', 11, '91228', 5, 'ESSONNE', 'Essonne', 'Essonne')\n",
      "('92', 11, '92050', 4, 'HAUTS DE SEINE', 'Hauts-de-Seine', 'Hauts-de-Seine')\n",
      "('93', 11, '93008', 3, 'SEINE SAINT DENIS', 'Seine-Saint-Denis', 'Seine-Saint-Denis')\n",
      "('94', 11, '94028', 2, 'VAL DE MARNE', 'Val-de-Marne', 'Val-de-Marne')\n",
      "('95', 11, '95500', 2, 'VAL D OISE', \"Val-d'Oise\", \"Val-d'Oise\")\n",
      "('971', 1, '97105', 3, 'GUADELOUPE', 'Guadeloupe', 'Guadeloupe')\n",
      "('972', 2, '97209', 3, 'MARTINIQUE', 'Martinique', 'Martinique')\n",
      "('973', 3, '97302', 3, 'GUYANE', 'Guyane', 'Guyane')\n",
      "('974', 4, '97411', 0, 'LA REUNION', 'La Réunion', 'La Réunion')\n",
      "('976', 6, '97608', 0, 'MAYOTTE', 'Mayotte', 'Mayotte')\n"
     ]
    }
   ],
   "source": [
    "#TODO"
   ]
  },
  {
   "cell_type": "code",
   "execution_count": 50,
   "metadata": {},
   "outputs": [
    {
     "name": "stdout",
     "output_type": "stream",
     "text": [
      "[(68, ('ANAS', 4)), (22, ('DAVID', 10)), (91, ('MALIK', 4)), (61, ('ENOLA', 4)), (36, ('LÉA', 29)), (30, ('LÉNA', 22)), (94, ('FRANCK', 7)), (6, ('ISABELLA', 3)), (52, ('MATHEO', 8)), (29, ('NOLAN', 37))]\n",
      "[(1, ('LINA', 8)), (71, ('ETHAN', 29)), (43, ('JULIA', 7)), (75, ('VALENTIN', 121)), (73, ('BAPTISTE', 18)), (37, ('LOUISE', 56)), (84, ('JULIE', 47)), (19, ('DAMIEN', 8)), (6, ('ZOÉ', 26)), (44, ('LILOU', 97))]\n",
      "[(38, 'ISERE'), (46, 'LOT'), (94, 'VAL DE MARNE'), (18, 'CHER'), (52, 'HAUTE MARNE'), (14, 'CALVADOS'), (40, 'LANDES'), (3, 'ALLIER'), (37, 'INDRE ET LOIRE'), (85, 'VENDEE')]\n",
      "('AIN', ('LINA', 8))\n",
      "('AISNE', ('MATHIS', 55))\n",
      "('ALLIER', ('SAMY', 3))\n",
      "('ALPES DE HAUTE PROVENCE', ('SARAH', 6))\n",
      "('ALPES MARITIMES', ('ZOÉ', 26))\n",
      "('ARDECHE', ('ELOÏSE', 5))\n",
      "('ARDENNES', ('JULIE', 33))\n",
      "('ARIEGE', ('KENZO', 3))\n",
      "('AUBE', ('MAELYS', 11))\n",
      "('AUDE', ('SAMUEL', 3))\n",
      "('AVEYRON', ('JADE', 19))\n",
      "('BAS RHIN', ('CLARA', 136))\n",
      "('BOUCHES DU RHONE', ('MATTÉO', 145))\n",
      "('CALVADOS', ('ENZO', 83))\n",
      "('CHARENTE', ('FLAVIE', 5))\n",
      "('CHARENTE MARITIME', ('PAUL', 40))\n",
      "('CHER', ('NOAH', 10))\n",
      "('CORREZE', ('DAMIEN', 8))\n",
      "('COTE D OR', ('LOUIS', 77))\n",
      "('COTES D ARMOR', ('ALICE', 28))\n",
      "('DEUX SEVRES', ('MARIUS', 13))\n",
      "('DORDOGNE', ('LOLA', 20))\n",
      "('DOUBS', ('SARAH', 41))\n",
      "('DROME', ('ADÈLE', 14))\n",
      "('ESSONNE', ('JULES', 50))\n",
      "('EURE', ('TIMÉO', 19))\n",
      "('EURE ET LOIR', ('BENJAMIN', 40))\n",
      "('FINISTERE', ('LÉO', 73))\n",
      "('GARD', ('LÉNA', 22))\n",
      "('GERS', ('LINA', 4))\n",
      "('GIRONDE', ('TOM', 104))\n",
      "('GUADELOUPE', ('LORENZO', 12))\n",
      "('GUYANE', ('_PRENOMS_RARES', 1463))\n",
      "('HAUT RHIN', ('LÉA', 109))\n",
      "('HAUTE GARONNE', ('GUILHEM', 13))\n",
      "('HAUTE LOIRE', ('JULIA', 7))\n",
      "('HAUTE MARNE', ('LÉO', 15))\n",
      "('HAUTE SAONE', ('LÉO', 14))\n",
      "('HAUTE SAVOIE', ('MARINE', 31))\n",
      "('HAUTE VIENNE', ('LÉONIE', 9))\n",
      "('HAUTES ALPES', ('RÉMY', 4))\n",
      "('HAUTES PYRENEES', ('LOÏC', 7))\n",
      "('HAUTS DE SEINE', ('STELLA', 27))\n",
      "('HERAULT', ('INAYA', 37))\n",
      "('ILLE ET VILAINE', ('EVAN', 80))\n",
      "('INDRE', ('LÉA', 29))\n",
      "('INDRE ET LOIRE', ('LOUISE', 56))\n",
      "('ISERE', ('CHARLOTTE', 44))\n",
      "('JURA', ('JULES', 20))\n",
      "('LA REUNION', ('NOÉMIE', 20))\n",
      "('LANDES', ('ADRIEN', 10))\n",
      "('LOIR ET CHER', ('ROSE', 15))\n",
      "('LOIRE', ('NINA', 17))\n",
      "('LOIRE ATLANTIQUE', ('LILOU', 97))\n",
      "('LOIRET', ('ROMANE', 22))\n",
      "('LOT', ('_PRENOMS_RARES', 13))\n",
      "('LOT ET GARONNE', ('MAXIME', 23))\n",
      "('MAINE ET LOIRE', ('CLÉMENT', 42))\n",
      "('MANCHE', ('LUCIE', 11))\n",
      "('MARNE', ('_PRENOMS_RARES', 199))\n",
      "('MARTINIQUE', ('YANN', 16))\n",
      "('MAYENNE', ('EVA', 17))\n",
      "('MEURTHE ET MOSELLE', ('ILHAN', 6))\n",
      "('MEUSE', ('_PRENOMS_RARES', 31))\n",
      "('MORBIHAN', ('QUENTIN', 37))\n",
      "('MOSELLE', ('EMMA', 126))\n",
      "('NIEVRE', ('ALEXANDRE', 12))\n",
      "('NORD', ('YASMINE', 49))\n",
      "('OISE', ('CLÉMENT', 8))\n",
      "('ORNE', ('ENZO', 48))\n",
      "('PARIS', ('VALENTIN', 121))\n",
      "('PAS DE CALAIS', ('CAPUCINE', 32))\n",
      "('PUY DE DOME', ('CAMILLE', 71))\n",
      "('PYRENEES ATLANTIQUES', ('YANIS', 36))\n",
      "('PYRENEES ORIENTALES', ('LOUIS', 29))\n",
      "('RHONE', ('OSCAR', 41))\n",
      "('SAONE ET LOIRE', ('ETHAN', 29))\n",
      "('SARTHE', ('EMILIE', 17))\n",
      "('SAVOIE', ('BAPTISTE', 18))\n",
      "('SEINE ET MARNE', ('MARGOT', 27))\n",
      "('SEINE MARITIME', ('CLARA', 106))\n",
      "('SEINE SAINT DENIS', ('LAURA', 82))\n",
      "('SOMME', ('APOLLINE', 7))\n",
      "('TARN', ('ANAÏS', 22))\n",
      "('TARN ET GARONNE', ('LÉON', 9))\n",
      "('TERRITOIRE DE BELFORT', ('CORENTIN', 8))\n",
      "('VAL D OISE', ('_PRENOMS_RARES', 988))\n",
      "('VAL DE MARNE', ('PAUL', 53))\n",
      "('VAR', ('ARTHUR', 36))\n",
      "('VAUCLUSE', ('JULIE', 47))\n",
      "('VENDEE', ('MARIUS', 13))\n",
      "('VIENNE', ('HUGO', 42))\n",
      "('VOSGES', ('_PRENOMS_RARES', 45))\n",
      "('YONNE', ('LEO', 11))\n",
      "('YVELINES', ('GABIN', 47))\n"
     ]
    }
   ],
   "source": [
    "#TODO"
   ]
  }
 ],
 "metadata": {
  "kernelspec": {
   "display_name": "sparkenv",
   "language": "python",
   "name": "python3"
  },
  "language_info": {
   "codemirror_mode": {
    "name": "ipython",
    "version": 3
   },
   "file_extension": ".py",
   "mimetype": "text/x-python",
   "name": "python",
   "nbconvert_exporter": "python",
   "pygments_lexer": "ipython3",
   "version": "3.11.6"
  }
 },
 "nbformat": 4,
 "nbformat_minor": 2
}
